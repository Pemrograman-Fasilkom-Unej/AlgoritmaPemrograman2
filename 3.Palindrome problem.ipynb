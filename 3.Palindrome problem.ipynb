{
 "metadata": {
  "language_info": {
   "codemirror_mode": {
    "name": "ipython",
    "version": 3
   },
   "file_extension": ".py",
   "mimetype": "text/x-python",
   "name": "python",
   "nbconvert_exporter": "python",
   "pygments_lexer": "ipython3",
   "version": "3.8.5-final"
  },
  "orig_nbformat": 2,
  "kernelspec": {
   "name": "python3",
   "display_name": "Python 3",
   "language": "python"
  }
 },
 "nbformat": 4,
 "nbformat_minor": 2,
 "cells": [
  {
   "source": [
    "~PALINDROME PROBLEM~\n",
    "\n",
    "palindrome adalah serangkaian string yang memiliki susunan kata yang sama ketika dibaca dari dari depan maupun belakang.\n",
    "\n",
    "..\n",
    "\n",
    "simple ex:\n",
    "\n",
    "TENET\n",
    "\n",
    "..\n",
    "\n",
    "complex ex:\n",
    "\n",
    "given string : \"A man, a plan, a canal: Panama\"\n",
    "\n",
    "string on proccess : \"amanaplanacanalpanama\"\n",
    "\n",
    "output : true\n",
    "\n",
    "clue : menggunakan ASCII checker"
   ],
   "cell_type": "markdown",
   "metadata": {}
  },
  {
   "cell_type": "code",
   "execution_count": 24,
   "metadata": {},
   "outputs": [
    {
     "output_type": "stream",
     "name": "stdout",
     "text": [
      "false\n"
     ]
    }
   ],
   "source": [
    "#koding simple untuk plaindrome checker\n",
    "myString = input()\n",
    "reversedString = myString[::-1]\n",
    "if reversedString == myString:\n",
    "    print('true')\n",
    "else:\n",
    "    print('false')"
   ]
  },
  {
   "cell_type": "code",
   "execution_count": 36,
   "metadata": {},
   "outputs": [
    {
     "output_type": "stream",
     "name": "stdout",
     "text": [
      "given string : asdDASD,DS;FSDF;SDF;;\nstring on proccess: asddasddsfsdfsdf\npalindrome status:  False\n"
     ]
    }
   ],
   "source": [
    "#koding kompleks melibatkan unicode/ASCII\n",
    "\n",
    "#ASCII CHECKER\n",
    "def asciiChecker(inputString):\n",
    "    newString =''\n",
    "    for i in range(len(inputString)):\n",
    "        if (48 <= ord(inputString[i]) <= 57) or (65 <= ord(inputString[i]) <= 90) or (97 <= ord(inputString[i]) <= 122):\n",
    "            newString+=inputString[i].lower()\n",
    "    return newString\n",
    "\n",
    "#palindrome checker\n",
    "def palindromeChecker(proccessString):\n",
    "    reversedString = proccessString[::-1].lower()\n",
    "    if reversedString == proccessString:\n",
    "        return True\n",
    "    else:\n",
    "        return False\n",
    "\n",
    "myString = input()\n",
    "newString = asciiChecker(myString)\n",
    "print('given string : '+myString)\n",
    "print('string on proccess: '+ newString)\n",
    "print('palindrome status: ',palindromeChecker(newString))"
   ]
  },
  {
   "cell_type": "code",
   "execution_count": null,
   "metadata": {},
   "outputs": [],
   "source": []
  }
 ]
}